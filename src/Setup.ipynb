{
 "cells": [
  {
   "cell_type": "markdown",
   "metadata": {},
   "source": [
    "# 1. Install Anaconda, Python 3, Jupyter notebook\n",
    "(Chỉ dẫn cho Windows. Các hệ điều hành khác command hơi khác, liên hệ mentor nào đó nhóm Tin)\n",
    "* Go to https://www.continuum.io/downloads \n",
    "* Download the setup file Anaconda for Python 3, Windows 64-bit (for example Anaconda3-4.2.0-Windows-x86_64.exe)\n",
    "* Open the setup file, allow add to path and use Anaconda as default Python\n",
    "* Once installation is complete, open Anaconda prompt from Start menu\n",
    "* Create a directory to store your projects, for example D:\\MaSSP\\physics\n",
    "    * D:\\MaSSP\\$ mkdir physics\n",
    "* Run this command to create environment “tweezer” with Python 3.5 and iPython notebook (Jupyter) installed\n",
    "    * D:\\MaSSP\\physics\\$ conda create -n tweezer python=3.5 jupyter\n",
    "    * Answer “y” and hit Enter if asked “Proceed ([y]/n)?”\n",
    "* Activate the environment\n",
    "    * D:\\MaSSP\\physics$ activate tweezer\n",
    "    * If the above doesn’t work, try “source activate tweezer”\n",
    "    the prompt should become “(tweezer) D:\\MaSSP\\physics\\$”\n",
    "* Thử mở Jupyter\n",
    "    * (tweezer) D:\\MaSSP\\physics\\$ jupyter notebook\n",
    "    * Nếu thấy không báo lỗi, output tương tự thế này thì là cài đặt tốt. Trình duyệt sẽ mở ra một trang mới của Jupyter. Tắt trang này đi, và Ctrl-C 2 lần ở terminal để đi tiếp phần sau - cài đặt VPython\n",
    "    > (tweezer) D:\\MaSSP\\physics\\optical_tweezers>jupyter notebook\n",
    "[I 06:42:06.287 NotebookApp] Serving notebooks from local directory: D:\\MaSSP\\physics\\optical_tweezers\n",
    "[I 06:42:06.287 NotebookApp] 0 active kernels\n",
    "[I 06:42:06.287 NotebookApp] The Jupyter Notebook is running at: http://localhost:8888/?token=2220272fbf247afcaee0a6a80b7e9ebc5255dcdbf304d92c\n",
    "[I 06:42:06.287 NotebookApp] Use Control-C to stop this server and shut down all kernels (twice to skip confirmation).\n",
    "[C 06:42:06.287 NotebookApp]\n",
    "    Copy/paste this URL into your browser when you connect for the first time,\n",
    "    to login with a token:\n",
    "        http://localhost:8888/?token=2220272fbf247afcaee0a6a80b7e9ebc5255dcdbf304d92c\n",
    "[I 06:42:09.279 NotebookApp] Accepting one-time-token-authenticated connection from ::1\n",
    "[I 06:42:22.928 NotebookApp] Kernel started: e992231d-ea35-4954-93e3-452e1c338305"
   ]
  },
  {
   "cell_type": "markdown",
   "metadata": {},
   "source": [
    "# 2. Install VPython\n",
    "* Từ trong environment \"tweezer\", cài VPython\n",
    "    * Dùng conda (chị chưa thử)\n",
    "        * (tweezer) D:\\MaSSP\\physics\\$ conda install -c mwcraig vpython=6.11.0\n",
    "    * Dùng pip\n",
    "        * (tweezer) D:\\MaSSP\\physics\\$ pip install vpython\n",
    "* Kiểm tra\n",
    "    * (tweezer) D:\\MaSSP\\physics\\$ jupyter notebook\n",
    "    * Từ trang Jupyter, nhấn nút New và chọn VPython\n",
    "    <img src=\"../images/Setup/new_vpython_notebook.png\" />\n",
    "    * Trong notebook mới vừa được tạo, nhập dòng lệnh sau và nhấn Shift+Enter, nếu không có lỗi thì việc cài đặt VPython đã thành công. Bạn có thể không lưu notebook này, Ctrl+C để tắt Jupyter, và sẵn sàng cho bước tiếp theo - cài đặt Github\n",
    "        * import vpython"
   ]
  },
  {
   "cell_type": "markdown",
   "metadata": {},
   "source": [
    "# 3. Install Github\n",
    "* Vào đây làm theo chỉ dẫn của phần Setting Up Git https://help.github.com/articles/set-up-git/#setting-up-git \n",
    "* Kiểm tra\n",
    "    * Từ Start menu, tìm Git Bash\n",
    "        * Từ command shell của Git Bash, nhập lệnh clone repo của massp. Nếu thành công, một thư mục \"optical_tweezers\" sẽ được tạo ra\n",
    "            * D:\\MaSSP\\physics\\$ git clone https://github.com/masspvn/optical_tweezers.git\n",
    "    * Nếu không có Git Bash, lặp lại các bước trên với command shell của Windows. Nếu gặp lỗi \"git not found\", chạy sang bên Tin hỏi :v"
   ]
  }
 ],
 "metadata": {
  "kernelspec": {
   "display_name": "VPython",
   "language": "python",
   "name": "vpython"
  },
  "language_info": {
   "codemirror_mode": {
    "name": "ipython",
    "version": 3
   },
   "file_extension": ".py",
   "mimetype": "text/x-python",
   "name": "python",
   "nbconvert_exporter": "python",
   "pygments_lexer": "ipython3",
   "version": "3.5.3"
  }
 },
 "nbformat": 4,
 "nbformat_minor": 2
}
